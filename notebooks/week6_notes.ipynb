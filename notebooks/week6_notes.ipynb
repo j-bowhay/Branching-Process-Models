{
 "cells": [
  {
   "cell_type": "markdown",
   "metadata": {},
   "source": [
    "Someone who goes to hospital on average infects $\\lambda_h$ other people (NOT A RATE PER TIME).\n",
    "\n",
    "$\\mathcal$"
   ]
  }
 ],
 "metadata": {
  "language_info": {
   "name": "python"
  }
 },
 "nbformat": 4,
 "nbformat_minor": 2
}
