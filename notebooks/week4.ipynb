{
 "cells": [
  {
   "cell_type": "markdown",
   "metadata": {},
   "source": [
    "# Week 4\n",
    "## SIR with vaccination\n",
    "\n",
    "Consider two different groups of people, those who have received a vaccine (denoted subscript $V$) and those who haven't (denoted subscript $N$). The total population size is $N$ and and number of vaccinated is $N_v$. The vaccine prevents infection with a rate of $\\alpha$.\n",
    "\n",
    "Hence we have\n",
    "$$\n",
    "\\begin{align*}\n",
    "S &\\xrightarrow{\\beta(I+I_V)S} I \\xrightarrow{\\mu I} R,\\\\\n",
    "S_V &\\xrightarrow{\\beta(1-\\alpha)(I+I_V)S_V} I_V \\xrightarrow{\\mu I_V} R_V.\n",
    "\\end{align*}\n",
    "$$\n",
    "\n",
    "Assuming $S\\approx N$ and $S_V\\approx N_V$ gives\n",
    "\n",
    "$$\n",
    "\\begin{align*}\n",
    "q_{1,0} = \\frac{\\beta N}{\\beta N + \\mu + \\beta(1-\\alpha)N_V}q_{2,0} + \\frac{\\mu}{\\beta N + \\mu + \\beta(1-\\alpha)N_V}q_{0,0} + \\frac{\\beta(1-\\alpha)N_V}{\\beta N + \\mu + \\beta(1-\\alpha)N_V}q_{1,1} \\\\\n",
    "\n",
    "q_{0,1} = \\frac{\\beta(1-\\alpha)N_V}{\\beta(1-\\alpha)N_V + \\mu + \\beta N}q_{0,2} + \\frac{\\mu}{\\beta(1-\\alpha)N_V + \\mu + \\beta N}q_{0,0} + \\frac{\\beta N}{\\beta (1-\\alpha)N_V + \\mu + \\beta N}q_{1,1} \\\\\n",
    "\\end{align*}\n",
    "$$"
   ]
  },
  {
   "cell_type": "code",
   "execution_count": 4,
   "metadata": {},
   "outputs": [
    {
     "data": {
      "image/png": "[encoded data removed]",
      "text/latex": [
       "$\\displaystyle q_{10} = \\frac{N \\beta q_{10}^{2}}{N \\beta + N_{V} \\beta \\left(1 - \\alpha\\right) + \\mu} + \\frac{N_{V} \\beta q_{01} q_{10} \\cdot \\left(1 - \\alpha\\right)}{N \\beta + N_{V} \\beta \\left(1 - \\alpha\\right) + \\mu} + \\frac{\\mu}{N \\beta + N_{V} \\beta \\left(1 - \\alpha\\right) + \\mu}$"
      ],
      "text/plain": [
       "                     2                                                        \n",
       "              N⋅β⋅q₁₀            N_V⋅β⋅q₀₁⋅q₁₀⋅(1 - α)               μ        \n",
       "q₁₀ = ─────────────────────── + ─────────────────────── + ────────────────────\n",
       "      N⋅β + N_V⋅β⋅(1 - α) + μ   N⋅β + N_V⋅β⋅(1 - α) + μ   N⋅β + N_V⋅β⋅(1 - α) \n",
       "\n",
       "   \n",
       "   \n",
       "───\n",
       "+ μ"
      ]
     },
     "metadata": {},
     "output_type": "display_data"
    },
    {
     "data": {
      "image/png": "[encoded data removed]",
      "text/latex": [
       "$\\displaystyle q_{01} = \\frac{N \\beta q_{01} q_{10}}{N \\beta + N_{V} \\beta \\left(1 - \\alpha\\right) + \\mu} + \\frac{N_{V} \\beta q_{01}^{2} \\cdot \\left(1 - \\alpha\\right)}{N \\beta + N_{V} \\beta \\left(1 - \\alpha\\right) + \\mu} + \\frac{\\mu}{N \\beta + N_{V} \\beta \\left(1 - \\alpha\\right) + \\mu}$"
      ],
      "text/plain": [
       "                                            2                                 \n",
       "            N⋅β⋅q₀₁⋅q₁₀            N_V⋅β⋅q₀₁ ⋅(1 - α)                μ        \n",
       "q₀₁ = ─────────────────────── + ─────────────────────── + ────────────────────\n",
       "      N⋅β + N_V⋅β⋅(1 - α) + μ   N⋅β + N_V⋅β⋅(1 - α) + μ   N⋅β + N_V⋅β⋅(1 - α) \n",
       "\n",
       "   \n",
       "   \n",
       "───\n",
       "+ μ"
      ]
     },
     "metadata": {},
     "output_type": "display_data"
    }
   ],
   "source": [
    "from sympy import *\n",
    "init_printing()\n",
    "\n",
    "mu, beta, alpha = symbols(\"mu beta alpha\")\n",
    "N, N_V = symbols(\"N N_V\")\n",
    "\n",
    "q, q_v = symbols(\"q_10 q_01\")\n",
    "\n",
    "sum1=beta*N + mu + beta*(1-alpha)*N_V\n",
    "sum2=beta*(1-alpha)*N_V + mu + beta*N\n",
    "\n",
    "eq1 = Eq(q, q**2*beta*N/sum1 + mu/sum1 + q*q_v*beta*N_V*(1-alpha)/sum1)\n",
    "display(eq1)\n",
    "eq2 = Eq(q_v, q_v**2*beta*(1-alpha)*N_V/(sum2) + mu/(sum2) + q*q_v*beta*N/(sum2))\n",
    "display(eq2)"
   ]
  },
  {
   "cell_type": "code",
   "execution_count": 5,
   "metadata": {},
   "outputs": [
    {
     "data": {
      "image/png": "[encoded data removed]",
      "text/latex": [
       "$\\displaystyle \\left[ \\left( 1, \\  1\\right), \\  \\left( \\frac{\\mu}{N \\beta - N_{V} \\alpha \\beta + N_{V} \\beta}, \\  \\frac{\\mu}{N \\beta - N_{V} \\alpha \\beta + N_{V} \\beta}\\right)\\right]$"
      ],
      "text/plain": [
       "⎡        ⎛          μ                      μ          ⎞⎤\n",
       "⎢(1, 1), ⎜─────────────────────, ─────────────────────⎟⎥\n",
       "⎣        ⎝N⋅β - N_V⋅α⋅β + N_V⋅β  N⋅β - N_V⋅α⋅β + N_V⋅β⎠⎦"
      ]
     },
     "metadata": {},
     "output_type": "display_data"
    }
   ],
   "source": [
    "sol = solve([eq1, eq2], [q, q_v])\n",
    "display(sol)"
   ]
  },
  {
   "cell_type": "code",
   "execution_count": 15,
   "metadata": {},
   "outputs": [
    {
     "name": "stdout",
     "output_type": "stream",
     "text": [
      "0.24537243511523532\n",
      "0.24537243511523532\n"
     ]
    }
   ],
   "source": [
    "_N_V = 58281\n",
    "_N = 100_000 - _N_V\n",
    "_R_0 = 1.5\n",
    "_mu = 1/8\n",
    "_beta = _R_0*_mu/(_N+_N_V)\n",
    "_alpha = 0.2\n",
    "\n",
    "for s in sol[1]:\n",
    "    tmp = s.subs(N_V, _N_V).subs(N,_N).subs(mu,_mu).subs(beta, _beta).subs(alpha, _alpha)\n",
    "    print(1 - float(tmp))"
   ]
  },
  {
   "cell_type": "markdown",
   "metadata": {},
   "source": [
    "## Gillespie"
   ]
  },
  {
   "cell_type": "markdown",
   "metadata": {},
   "source": []
  }
 ],
 "metadata": {
  "kernelspec": {
   "display_name": "venv",
   "language": "python",
   "name": "python3"
  },
  "language_info": {
   "codemirror_mode": {
    "name": "ipython",
    "version": 3
   },
   "file_extension": ".py",
   "mimetype": "text/x-python",
   "name": "python",
   "nbconvert_exporter": "python",
   "pygments_lexer": "ipython3",
   "version": "3.11.6"
  }
 },
 "nbformat": 4,
 "nbformat_minor": 2
}
