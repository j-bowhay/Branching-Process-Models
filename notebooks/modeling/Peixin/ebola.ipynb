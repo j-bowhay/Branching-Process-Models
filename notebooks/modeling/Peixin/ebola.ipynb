{
 "cells": [
  {
   "cell_type": "code",
   "execution_count": 1,
   "metadata": {},
   "outputs": [],
   "source": [
    "import matplotlib.pyplot as plt\n",
    "import numpy as np\n",
    "import random\n",
    "import math\n",
    "from scipy.optimize import fsolve"
   ]
  },
  {
   "cell_type": "code",
   "execution_count": 2,
   "metadata": {},
   "outputs": [
    {
     "name": "stdout",
     "output_type": "stream",
     "text": [
      "1 - q_10 = 0.37825749913468, 1 - q_01 = 0.056965980908986635\n"
     ]
    }
   ],
   "source": [
    "\n",
    "N = 6.4\n",
    "q = 0.16\n",
    "beta = 4\n",
    "alpha = 0.019\n",
    "\n",
    "lambda_h = 0.3\n",
    "phi = 2.18\n",
    "h = 0.6\n",
    "gamma_1 = 0.6\n",
    "mu = 0.3\n",
    "lambda_0 = 1.1\n",
    "\n",
    "\n",
    "beta_cc = (lambda_0 + phi) * (1 - h)\n",
    "beta_ch = (lambda_0 + phi) * h\n",
    "beta_hc = lambda_h * (1 - h)\n",
    "beta_hh = lambda_h * h + lambda_0 * beta * alpha\n",
    "gamma = 1 #gamma_1 + mu\n",
    "\n",
    "R_cc = beta_cc/gamma\n",
    "R_ch = beta_ch/gamma\n",
    "R_hc = beta_hc/gamma\n",
    "R_hh = beta_hh/gamma\n",
    "\n",
    "def equations(vars):\n",
    "    q_10, q_01 = vars\n",
    "    eq1 = R_cc/(R_cc+R_ch+1)*q_10**2 + R_ch/(R_cc+R_ch+1)*q_10*q_01 + 1/(R_cc+R_ch+1) - q_10\n",
    "    eq2 = R_hh/(R_hc+R_hh+1)*q_01**2 + R_hc/(R_hc+R_hh+1)*q_10*q_01 + 1/(R_hc+R_hh+1) - q_01\n",
    "    return [eq1, eq2]\n",
    "\n",
    "initial_guess = [0.5, 0.5]\n",
    "\n",
    "solution = fsolve(equations, initial_guess)\n",
    "\n",
    "print(f\"1 - q_10 = {1 - solution[0]}, 1 - q_01 = {1 - solution[1]}\")"
   ]
  }
 ],
 "metadata": {
  "kernelspec": {
   "display_name": "Python 3",
   "language": "python",
   "name": "python3"
  },
  "language_info": {
   "codemirror_mode": {
    "name": "ipython",
    "version": 3
   },
   "file_extension": ".py",
   "mimetype": "text/x-python",
   "name": "python",
   "nbconvert_exporter": "python",
   "pygments_lexer": "ipython3",
   "version": "3.9.6"
  }
 },
 "nbformat": 4,
 "nbformat_minor": 2
}
