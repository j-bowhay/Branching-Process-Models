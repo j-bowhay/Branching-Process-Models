{
 "cells": [
  {
   "cell_type": "markdown",
   "metadata": {},
   "source": [
    "# Week 1\n",
    "\n",
    "First just try the Gillespie Algorithm:"
   ]
  },
  {
   "cell_type": "code",
   "execution_count": 1,
   "metadata": {},
   "outputs": [
    {
     "name": "stderr",
     "output_type": "stream",
     "text": [
      "100%|██████████| 100000/100000 [00:04<00:00, 21019.88it/s]\n"
     ]
    }
   ],
   "source": [
    "import matplotlib.pyplot as plt\n",
    "import numpy as np\n",
    "from scipy.interpolate import interp1d\n",
    "from tqdm import tqdm\n",
    "\n",
    "from bp_models.gillespie import direct_gillespie\n",
    "\n",
    "Number_of_sims = 100_000\n",
    "N = 1000\n",
    "beta = 0.3\n",
    "mu = 0.2\n",
    "\n",
    "\n",
    "ts = []\n",
    "Is = []\n",
    "R_finals = []\n",
    "max_t = 0\n",
    "\n",
    "for _ in tqdm(range(Number_of_sims)):\n",
    "    t, I, R_final = direct_gillespie(N, beta, mu)\n",
    "    \n",
    "    ts.append(t)\n",
    "    Is.append(I)\n",
    "    R_finals.append(R_final)\n",
    "    \n",
    "    if t[-1] > max_t:\n",
    "        max_t = t[-1]\n"
   ]
  },
  {
   "cell_type": "code",
   "execution_count": null,
   "metadata": {},
   "outputs": [],
   "source": [
    "fig, ax = plt.subplots()\n",
    "plot_t = np.linspace(0, max_t, num=int(max_t)*1000)\n",
    "padded_data = []\n",
    "for t, s in zip(ts, Is):\n",
    "    padded = interp1d(t, s, bounds_error=False, fill_value=0, kind='nearest')(plot_t)\n",
    "    ax.plot(plot_t, padded, 'r', alpha=0.05)\n",
    "    padded_data.append(padded)\n",
    "\n",
    "padded_data = np.asarray(padded_data)\n",
    "ax.plot(plot_t, padded_data.mean(axis=0), 'k', linewidth=3)\n",
    "ax.plot(plot_t, np.quantile(padded_data, 0.25, axis=0), 'k--', linewidth=1)\n",
    "ax.plot(plot_t, np.quantile(padded_data, 0.75, axis=0), 'k--', linewidth=1)\n",
    "\n",
    "ax.set_xlabel(\"Time\")\n",
    "ax.set_ylabel(\"# Infected\")"
   ]
  },
  {
   "cell_type": "markdown",
   "metadata": {},
   "source": [
    "Next plot a histogram of the total number of infected, noting that this is given by $R$ at the end simulation."
   ]
  },
  {
   "cell_type": "code",
   "execution_count": 2,
   "metadata": {},
   "outputs": [
    {
     "data": {
      "text/plain": [
       "Text(0.5, 0, 'Total number of infections')"
      ]
     },
     "execution_count": 2,
     "metadata": {},
     "output_type": "execute_result"
    },
    {
     "data": {
      "image/png": "[encoded data removed]",
      "text/plain": [
       "<Figure size 640x480 with 1 Axes>"
      ]
     },
     "metadata": {},
     "output_type": "display_data"
    }
   ],
   "source": [
    "fig, ax = plt.subplots()\n",
    "R_finals = np.asarray(R_finals)\n",
    "\n",
    "ax.hist(R_finals, bins=30, density=True)\n",
    "ax.set_ylabel(\"Probability\")\n",
    "ax.set_xlabel(\"Total number of infections\")"
   ]
  },
  {
   "cell_type": "markdown",
   "metadata": {},
   "source": [
    "From this we see the definition of a major outbreak is not super important e.g. 20% or 40% of the population infected would make not practical difference. For now we use 20% and calculated the proportion of major outbreaks."
   ]
  },
  {
   "cell_type": "code",
   "execution_count": 4,
   "metadata": {},
   "outputs": [
    {
     "name": "stdout",
     "output_type": "stream",
     "text": [
      "Proportion of major outbreaks: 0.32524\n"
     ]
    }
   ],
   "source": [
    "print(f\"Proportion of major outbreaks: {np.sum(R_finals/N > 0.2)/Number_of_sims}\")"
   ]
  },
  {
   "cell_type": "markdown",
   "metadata": {},
   "source": [
    "# Analytical approaches to estimating the probability of an outbreak\n",
    "## Method 1: Probability generating functions\n",
    "\n",
    "The offspring distribution is the probability that an infected individual generates $k$ new infections and is denoted $\\mathbb{P}(X=k)$. The for any model $R_0 = \\sum_{k=0}^\\infty k\\mathbb{P}(X=k)$. The early outbreak can then be approximated as a branching process.\n",
    "\n",
    "For an discrete random variable $X$, the probability generating function (PGF) is given by\n",
    "$$\n",
    "\\begin{equation*}\n",
    "    G_X(z) = \\mathbb{E}[z^X] = \\sum_{k=0}^\\infty z^k\\mathbb{P}(X=k).\n",
    "\\end{equation*}\n",
    "$$\n",
    "\n",
    "Instead it can be more straightforward to calculate the probability that a major outbreak does not occur. The probability a major outbreak does not occur from a single infection is given by $q$. For a major outbreak to fail we need either:\n",
    "- first individual to infect nobody,\n",
    "- all individuals infected by the first person to infect nobody.\n",
    "This can be expressed as\n",
    "$$\n",
    "\\begin{equation*}\n",
    "\\mathbb{P}(\\text{no major outbreak}) =\\mathbb{P}(\\text{first individual infects nobody}) + \\sum_{k=1}^\\infty (\\mathbb{P}(\\text{first individual infects $k$ others}) \\cdot \\mathbb{P}(\\text{k infected don't cause major outbreak})),\n",
    "\\end{equation*}\n",
    "$$\n",
    "or in terms of the PGF\n",
    "$$\n",
    "\\begin{equation*}\n",
    "q = \\sum_{k=0}^\\infty q^k\\mathbb{P}(X=k) = G_X(q).\n",
    "\\end{equation*}\n",
    "$$\n",
    "Hence, the $q$ is given by the smallest non-negative solution of $G_X(q)=q$. Once $q$ is calculated, either analytically or numerically, the probability that a major outbreak occurs from a single individual is given be $p=1-q$.\n",
    "\n",
    "Under the assumption that $S(t)\\approx N$, for our SIR model we have\n",
    "$$\n",
    "\\begin{equation*}\n",
    "\\mathbb{P}(X=k)=\\frac{R_0^k}{(R_0+1)^{k+1}},\n",
    "\\end{equation*}\n",
    "$$\n",
    "which is a geometric distribution with \"success probability\" $1/(R_0+1)$. The PGF of a geometric distribution is\n",
    "$$\n",
    "\\begin{equation*}\n",
    "G_X(z) = \\frac{s}{1-(1-s)z}.\n",
    "\\end{equation*}\n",
    "$$\n",
    "Hence, the equation $G_X(q)=q$ yields\n",
    "$$\n",
    "\\begin{equation*}\n",
    "R_0q^2 - (R_0 +1)q +1=0,\n",
    "\\end{equation*}\n",
    "$$\n",
    "The solutions of which are $q=1$ and $q=1/R_0$ and therefore $p = 1 - 1/R_0$."
   ]
  },
  {
   "cell_type": "code",
   "execution_count": 5,
   "metadata": {},
   "outputs": [
    {
     "name": "stdout",
     "output_type": "stream",
     "text": [
      "Theoretical probability of a major outbreak: 0.33333333333333326\n",
      "Double checking numerically: [-4.44089210e-16  3.33333333e-01]\n"
     ]
    }
   ],
   "source": [
    "R0 = beta/mu\n",
    "print(f\"Theoretical probability of a major outbreak: {1 - 1/R0}\")\n",
    "print(f\"Double checking numerically: {1 - np.roots([R0, -(R0+1), 1])}\")"
   ]
  },
  {
   "cell_type": "markdown",
   "metadata": {},
   "source": [
    "## First-step analysis\n",
    "\n",
    "We denote the probability that an major outbreak fails to develop from $i$ infected individuals by $q_i$. By a branching process assumption we have that $q_m=q_1^m$.\n",
    "\n",
    "From a single infection, the law of total probability gives\n",
    "$$\n",
    "\\begin{align*}\n",
    "\\mathbb{P}(\\text{no major outbreak}) =& \\mathbb{P}(\\text{no major outbreak}|\\text{first event is infection})\\cdot\\mathbb{P}(\\text{first event is infection})\\\\\n",
    "&+\\mathbb{P}(\\text{no major outbreak}|\\text{first event is removal})\\cdot\\mathbb{P}(\\text{first event is removal}).\n",
    "\\end{align*}\n",
    "$$\n",
    "We have that the probability the first event is an infection as $\\beta/(\\beta+\\gamma)$ and the probability that the first event is a removal is $\\gamma/(\\beta+\\gamma)$. This gives\n",
    "$$\n",
    "\\begin{equation*}\n",
    "q_1 = \\frac{\\beta}{\\beta+\\gamma}q_2 + \\frac{\\gamma}{\\beta+\\gamma}q_0.\n",
    "\\end{equation*}\n",
    "$$\n",
    "Finally, applying the branching process assumption and noting that $q_0=1$ we have\n",
    "$$\n",
    "\\begin{equation*}\n",
    "q_1 = \\frac{\\beta}{\\beta+\\gamma}q_1^2 + \\frac{\\gamma}{\\beta+\\gamma}.\n",
    "\\end{equation*}\n",
    "$$\n",
    "This has the same roots and thus the same probability of a major outbreak as the PGF method."
   ]
  }
 ],
 "metadata": {
  "kernelspec": {
   "display_name": "venv",
   "language": "python",
   "name": "python3"
  },
  "language_info": {
   "codemirror_mode": {
    "name": "ipython",
    "version": 3
   },
   "file_extension": ".py",
   "mimetype": "text/x-python",
   "name": "python",
   "nbconvert_exporter": "python",
   "pygments_lexer": "ipython3",
   "version": "3.11.6"
  }
 },
 "nbformat": 4,
 "nbformat_minor": 2
}
